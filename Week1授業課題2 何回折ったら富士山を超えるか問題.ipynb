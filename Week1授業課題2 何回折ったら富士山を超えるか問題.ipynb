{
 "cells": [
  {
   "cell_type": "markdown",
   "metadata": {},
   "source": [
    "# 2.何回折ったら富士山を超えるか問題"
   ]
  },
  {
   "cell_type": "markdown",
   "metadata": {},
   "source": [
    "「Pythonを使ってみよう」の問題では「1枚の紙を43回折り曲げた時の厚さを計算するプログラム」を作成し、43回折ることで月に届くことが確認できました。\n",
    "\n",
    "ここで「何回折ったらある厚さになるのか」という疑問が生まれます。こういったことを計算するプログラムを作成していきましょう。\n",
    "\n"
   ]
  },
  {
   "cell_type": "markdown",
   "metadata": {},
   "source": [
    "紙を折った時の厚さの数式\n",
    "授業前課題と同様ですが確認しておきます。\n",
    "\n",
    "n回折った紙の厚さ \n",
    "tnは以下のように表せます。\n",
    "\n",
    "tn = t0*2^n\n",
    "\n",
    "折る前の紙の厚さ \n",
    "t0は0.00008mとします。一般的なコピー用紙の厚さです。"
   ]
  },
  {
   "cell_type": "markdown",
   "metadata": {},
   "source": [
    "# 【問題1】富士山（3776m）を超える最小の折る回数\n"
   ]
  },
  {
   "cell_type": "code",
   "execution_count": 17,
   "metadata": {},
   "outputs": [
    {
     "name": "stdout",
     "output_type": "stream",
     "text": [
      "26\n"
     ]
    }
   ],
   "source": [
    "THICKNESS = 0.00008 # 紙の厚さ[m]\n",
    "FUJI_MOUNT=3776\n",
    "counter = 0\n",
    "\n",
    "while THICKNESS < FUJI_MOUNT:\n",
    "    THICKNESS *= 2\n",
    "    counter += 1\n",
    "print(counter)"
   ]
  },
  {
   "cell_type": "markdown",
   "metadata": {},
   "source": [
    "# 【問題2】任意の厚さに対応した関数を作成"
   ]
  },
  {
   "cell_type": "markdown",
   "metadata": {},
   "source": [
    "距離を入力すると、何回折った時に超えるかを出力する関数を作成してください。引数として、折る前の厚さt0も設定できるようにしましょう。\n",
    "\n",
    "この関数を利用して、「最も近い太陽以外の恒星」に到達するには紙を何回折る必要があるか計算してください。「最も近い太陽以外の恒星」の距離は調査してください。"
   ]
  },
  {
   "cell_type": "markdown",
   "metadata": {},
   "source": [
    "最も近い太陽以外の恒星　⇒　\n",
    "Proxima Centauri　4.2光年 "
   ]
  },
  {
   "cell_type": "code",
   "execution_count": 18,
   "metadata": {},
   "outputs": [],
   "source": [
    "def adjust_thickness(variable_volume,distance):\n",
    "    THICKNESS = variable_volume\n",
    "    counter = 0\n",
    "    \n",
    "    while THICKNESS < distance:\n",
    "        THICKNESS *= 2\n",
    "        counter += 1\n",
    "    print(counter)"
   ]
  },
  {
   "cell_type": "code",
   "execution_count": 19,
   "metadata": {},
   "outputs": [
    {
     "name": "stdout",
     "output_type": "stream",
     "text": [
      "69\n"
     ]
    }
   ],
   "source": [
    "adjust_thickness(0.00008,3.974e+16)"
   ]
  },
  {
   "cell_type": "markdown",
   "metadata": {},
   "source": [
    "# 【問題3】必要な紙の長さ"
   ]
  },
  {
   "cell_type": "markdown",
   "metadata": {},
   "source": [
    "実際のところ身近にある紙は43回はおろか10回も折れません。しかし、大きな紙ほどたくさん折ることができ、トイレットペーパーのような長い紙を一方向に折ることを考えた時の折れる回数を求める公式が存在します。\n",
    "厚さt0の紙をn回折るために必要な紙の長さLは以下の公式で求まります。\n",
    "\n",
    "L = πt0/6(2^n+4)(2^n-1)\n",
    "\n",
    "この公式を利用して、実際に紙を折り任意の厚さに到達するために必要な紙の長さを求める関数を作成してください。\n",
    "\n",
    "そしてこれを使って「月」「富士山」「最も近い太陽以外の恒星」に届くために必要な紙の長さを求めてください。\n",
    "\n",
    "《ヒント》\n",
    "\n",
    "この公式の中で折る回数nが登場しますが、このnは先ほど作成した関数で求まります。関数の中で関数を使うことが可能です。"
   ]
  },
  {
   "cell_type": "code",
   "execution_count": 20,
   "metadata": {},
   "outputs": [],
   "source": [
    "#紙の長さを計算する関数を作成。\n",
    "import math\n",
    "\n",
    "def paper_length(variable_volume,foldtime):\n",
    "    length = (math.pi*variable_volume/6)*(2**foldtime+4)*(2**foldtime-1) #紙の長さ\n",
    "    return length"
   ]
  },
  {
   "cell_type": "code",
   "execution_count": 34,
   "metadata": {},
   "outputs": [
    {
     "name": "stdout",
     "output_type": "stream",
     "text": [
      "月まで行くために必要な紙の長さ： 3.240919444170781e+21メートル\n",
      "富士山の高さに必要な紙の長さ： 188646348487.24017メートル\n",
      "最も近い太陽以外の恒星(Proxima Centauri)に行くために必要な紙の長さ： 1.4595803601100348e+37メートル\n"
     ]
    }
   ],
   "source": [
    "#月までの距離384400000\n",
    "#adjust_thickness(0.00008,384400000) #月までの距離は何回折れば到達できるかを計算\n",
    "paper_length(0.00008,43) #43回折れば行けることが分かったので同回数折ることのできる紙の長さを計算\n",
    "\n",
    "#富士山の高さ3776\n",
    "#adjust_thickness(0.00008,3776) #富士山の高さは何回折れば到達できるかを計算\n",
    "paper_length(0.00008,26) #26回折れば行けることが分かったので同回数折ることのできる紙の長さを計算\n",
    "\n",
    "#最も近い太陽以外の恒星(Proxima Centauri)までの距離、3.974e+16メートル(4.2光年) \n",
    "#adjust_thickness(0.00008,3.974e+16) #Proxima Centauriまでの距離は何回折れば到達できるかを計算\n",
    "paper_length(0.00008,69) #69回折れば行けることが分かったので同回数折ることのできる紙の長さを計算\n",
    "\n",
    "\n",
    "print(\"月まで行くために必要な紙の長さ： {}メートル\".format(paper_length(0.00008,43)))\n",
    "print(\"富士山の高さに必要な紙の長さ： {}メートル\".format(paper_length(0.00008,26)))\n",
    "print(\"最も近い太陽以外の恒星(Proxima Centauri)に行くために必要な紙の長さ： {}メートル\".format(paper_length(0.00008,69)))"
   ]
  }
 ],
 "metadata": {
  "kernelspec": {
   "display_name": "Python 3",
   "language": "python",
   "name": "python3"
  },
  "language_info": {
   "codemirror_mode": {
    "name": "ipython",
    "version": 3
   },
   "file_extension": ".py",
   "mimetype": "text/x-python",
   "name": "python",
   "nbconvert_exporter": "python",
   "pygments_lexer": "ipython3",
   "version": "3.7.3"
  }
 },
 "nbformat": 4,
 "nbformat_minor": 2
}
